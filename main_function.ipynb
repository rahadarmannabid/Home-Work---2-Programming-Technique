{
 "cells": [
  {
   "cell_type": "code",
   "execution_count": 1,
   "id": "555e79d0",
   "metadata": {},
   "outputs": [],
   "source": [
    "import math\n",
    "import queue\n",
    "import collections"
   ]
  },
  {
   "cell_type": "code",
   "execution_count": 8,
   "id": "42effe73",
   "metadata": {},
   "outputs": [],
   "source": [
    "class Graph:\n",
    "    def __init__(self, num_of_nodes, directed = True):\n",
    "        self.m_num_of_nodes = num_of_nodes\n",
    "        self.m_directed = directed\n",
    "\n",
    "\n",
    "        self.m_adj_matrix = [[0 for column in range(0, num_of_nodes)] \n",
    "                            for row in range(0, num_of_nodes)]\n",
    "        \n",
    "        self.m_nodes = range(1, self.m_num_of_nodes + 1)\n",
    "        self.m_adj_list = {node: set() for node in self.m_nodes} \n",
    "\n",
    "    def add_edge(self, node1, node2, weight=1):\n",
    "        #for matrix\n",
    "        self.m_adj_matrix[node1-1][node2-1] = weight\n",
    "        #for list\n",
    "        self.m_adj_list[node1].add((node2, weight))\n",
    "\n",
    "        if not self.m_directed:\n",
    "            self.m_adj_matrix[node2-1][node1-1] = weight\n",
    "            self.m_adj_list[node2].add((node1, weight))\n",
    "            \n",
    "        \n",
    "\n",
    "    def print_adj_matrix(self):\n",
    "        \n",
    "        for j in range(0,len(self.m_adj_matrix)):\n",
    "            for k in range(0,len(self.m_adj_matrix)):\n",
    "                if self.m_adj_matrix[j][k] == 0:\n",
    "                    self.m_adj_matrix[j][k] = math.inf\n",
    "\n",
    "        return self.m_adj_matrix\n",
    "    \n",
    "    def print_adj_list(self):\n",
    "        for key in self.m_adj_list.keys():\n",
    "            print(\"node\", key, \": \", self.m_adj_list[key])\n",
    "        return self.m_adj_list\n",
    "    \n",
    "    def BFS(self):\n",
    "        start = 0\n",
    "        visited = [False] * self.m_num_of_nodes\n",
    "        q = [start]\n",
    "        visited[start] = True\n",
    "        print('The BFS transversal is:')\n",
    "        while q:\n",
    "            vis = q[0]\n",
    "            print(vis + 1, end = ' ')\n",
    "            q.pop(0)\n",
    "            for i in range(self.m_num_of_nodes):\n",
    "                if (self.m_adj_matrix[vis][i] != math.inf  and (not visited[i])):\n",
    "                    q.append(i)\n",
    "                    visited[i] = True\n",
    "                    \n",
    "    def DFS_F(self):\n",
    "        visited = [False] * self.m_num_of_nodes\n",
    "        print('The DFS transversal is:',)\n",
    "        def DFS(start, visited):\n",
    "            \n",
    "            print( start + 1, end = ' ')\n",
    "            visited[start] = True\n",
    "            \n",
    "            for i in range(self.m_num_of_nodes):\n",
    "                if (self.m_adj_matrix[start][i] != math.inf and (not visited[i])):\n",
    "                    DFS(i, visited)\n",
    "        DFS(0, visited)\n",
    "    \n"
   ]
  },
  {
   "cell_type": "code",
   "execution_count": 9,
   "id": "1bed9578",
   "metadata": {},
   "outputs": [
    {
     "name": "stdout",
     "output_type": "stream",
     "text": [
      "node 1 :  {(3, 8), (4, 6), (2, 7)}\n",
      "node 2 :  {(8, 8), (5, 9)}\n",
      "node 3 :  {(6, 7), (7, 6)}\n",
      "node 4 :  {(7, 4), (8, 3)}\n",
      "node 5 :  {(9, 7), (10, 6)}\n",
      "node 6 :  {(9, 5)}\n",
      "node 7 :  {(10, 7), (9, 4)}\n",
      "node 8 :  {(9, 5)}\n",
      "node 9 :  {(11, 4)}\n",
      "node 10 :  {(11, 3)}\n",
      "node 11 :  set()\n"
     ]
    }
   ],
   "source": [
    "graph = Graph(11, directed= True)\n",
    "graph.add_edge(1, 2, 7)\n",
    "graph.add_edge(1, 3, 8)\n",
    "graph.add_edge(1, 4, 6)\n",
    "graph.add_edge(2, 5, 9)\n",
    "graph.add_edge(2, 8, 8)\n",
    "graph.add_edge(3, 6, 7)\n",
    "graph.add_edge(3, 7, 6)\n",
    "graph.add_edge(4, 7, 4)\n",
    "graph.add_edge(4, 8, 3)\n",
    "graph.add_edge(5, 9, 7)\n",
    "graph.add_edge(5, 10, 6)\n",
    "graph.add_edge(6, 9, 5)\n",
    "graph.add_edge(7, 9, 4)\n",
    "graph.add_edge(7, 10, 7)\n",
    "graph.add_edge(8, 9, 5)\n",
    "graph.add_edge(9, 11, 4)\n",
    "graph.add_edge(10, 11, 3)\n",
    "adj_matrix_rep = graph.print_adj_matrix()\n",
    "adj_list_rep = graph.print_adj_list()"
   ]
  },
  {
   "cell_type": "code",
   "execution_count": 10,
   "id": "25d02394",
   "metadata": {},
   "outputs": [
    {
     "data": {
      "text/plain": [
       "{1: {(2, 7), (3, 8), (4, 6)},\n",
       " 2: {(5, 9), (8, 8)},\n",
       " 3: {(6, 7), (7, 6)},\n",
       " 4: {(7, 4), (8, 3)},\n",
       " 5: {(9, 7), (10, 6)},\n",
       " 6: {(9, 5)},\n",
       " 7: {(9, 4), (10, 7)},\n",
       " 8: {(9, 5)},\n",
       " 9: {(11, 4)},\n",
       " 10: {(11, 3)},\n",
       " 11: set()}"
      ]
     },
     "execution_count": 10,
     "metadata": {},
     "output_type": "execute_result"
    }
   ],
   "source": [
    "adj_list_rep"
   ]
  },
  {
   "cell_type": "code",
   "execution_count": 11,
   "id": "1dfa288e",
   "metadata": {},
   "outputs": [
    {
     "data": {
      "text/plain": [
       "[[inf, 7, 8, 6, inf, inf, inf, inf, inf, inf, inf],\n",
       " [inf, inf, inf, inf, 9, inf, inf, 8, inf, inf, inf],\n",
       " [inf, inf, inf, inf, inf, 7, 6, inf, inf, inf, inf],\n",
       " [inf, inf, inf, inf, inf, inf, 4, 3, inf, inf, inf],\n",
       " [inf, inf, inf, inf, inf, inf, inf, inf, 7, 6, inf],\n",
       " [inf, inf, inf, inf, inf, inf, inf, inf, 5, inf, inf],\n",
       " [inf, inf, inf, inf, inf, inf, inf, inf, 4, 7, inf],\n",
       " [inf, inf, inf, inf, inf, inf, inf, inf, 5, inf, inf],\n",
       " [inf, inf, inf, inf, inf, inf, inf, inf, inf, inf, 4],\n",
       " [inf, inf, inf, inf, inf, inf, inf, inf, inf, inf, 3],\n",
       " [inf, inf, inf, inf, inf, inf, inf, inf, inf, inf, inf]]"
      ]
     },
     "execution_count": 11,
     "metadata": {},
     "output_type": "execute_result"
    }
   ],
   "source": [
    "adj_matrix_rep"
   ]
  },
  {
   "cell_type": "code",
   "execution_count": 12,
   "id": "de4c876b",
   "metadata": {},
   "outputs": [
    {
     "name": "stdout",
     "output_type": "stream",
     "text": [
      "The BFS transversal is:\n",
      "1 2 3 4 5 8 6 7 9 10 11 "
     ]
    }
   ],
   "source": [
    "graph.BFS()"
   ]
  },
  {
   "cell_type": "code",
   "execution_count": 13,
   "id": "291c8be5",
   "metadata": {},
   "outputs": [
    {
     "name": "stdout",
     "output_type": "stream",
     "text": [
      "The DFS transversal is:\n",
      "1 2 5 9 11 10 8 3 6 7 4 "
     ]
    }
   ],
   "source": [
    "graph.DFS_F()"
   ]
  },
  {
   "cell_type": "code",
   "execution_count": 14,
   "id": "ff4ed02a",
   "metadata": {},
   "outputs": [],
   "source": [
    "def cost_and_seq(graph): \n",
    "    N = len(graph)\n",
    "    cost = [0] * N\n",
    "    cost[N-1] = 0\n",
    "    dist = [0] * N\n",
    "    dist[N-1] = N    \n",
    "    for i in range(N - 2, -1, -1):\n",
    "        cost[i] = math.inf\n",
    "        for j in range(N):\n",
    "            if graph[i][j] == math.inf:\n",
    "                continue\n",
    "            #cost[i] = min(cost[i], graph[i][j] + cost[j])\n",
    "            test = graph[i][j] + cost[j]\n",
    "            if (cost[i] > test):\n",
    "                cost[i] = test\n",
    "                dist[i]  = j + 1\n",
    "    print('The cost list of in every node C is: ', cost, '\\n The distance for each node D is:', dist)            \n",
    "    sequence = []\n",
    "    sequence.append(1)\n",
    "    count = 1\n",
    "    current_seq = 0\n",
    "    while (max(sequence) < N): \n",
    "\n",
    "        temp = dist[current_seq]\n",
    "        sequence.append(dist[current_seq])\n",
    "        current_seq = dist[current_seq]\n",
    "        current_seq = current_seq - 1\n",
    "        count = count + 1\n",
    "    print(\"\\n The minimum cost sequence is:\", sequence)\n",
    "    print('\\n The lowest cost is', cost[0])"
   ]
  },
  {
   "cell_type": "code",
   "execution_count": 15,
   "id": "6552abaa",
   "metadata": {},
   "outputs": [
    {
     "name": "stdout",
     "output_type": "stream",
     "text": [
      "The cost list of in every node C is:  [18, 17, 14, 12, 9, 9, 8, 9, 4, 3, 0] \n",
      " The distance for each node D is: [4, 8, 7, 7, 10, 9, 9, 9, 11, 11, 11]\n",
      "\n",
      " The minimum cost sequence is: [1, 4, 7, 9, 11]\n",
      "\n",
      " The lowest cost is 18\n"
     ]
    }
   ],
   "source": [
    "cost_and_seq(adj_matrix_rep)"
   ]
  },
  {
   "cell_type": "code",
   "execution_count": null,
   "id": "07d7414d",
   "metadata": {},
   "outputs": [],
   "source": []
  },
  {
   "cell_type": "code",
   "execution_count": null,
   "id": "ae553dca",
   "metadata": {},
   "outputs": [],
   "source": []
  }
 ],
 "metadata": {
  "kernelspec": {
   "display_name": "Python 3 (ipykernel)",
   "language": "python",
   "name": "python3"
  },
  "language_info": {
   "codemirror_mode": {
    "name": "ipython",
    "version": 3
   },
   "file_extension": ".py",
   "mimetype": "text/x-python",
   "name": "python",
   "nbconvert_exporter": "python",
   "pygments_lexer": "ipython3",
   "version": "3.9.12"
  }
 },
 "nbformat": 4,
 "nbformat_minor": 5
}
